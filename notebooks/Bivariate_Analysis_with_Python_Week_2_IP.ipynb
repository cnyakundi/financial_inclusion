{
  "nbformat": 4,
  "nbformat_minor": 0,
  "metadata": {
    "colab": {
      "name": "Bivariate Analysis with Python -Week 2 IP",
      "provenance": [],
      "collapsed_sections": [
        "R-LF2g-wFZAy",
        "J5_LC2_Crgta",
        "z0Ka3v_5r6nN",
        "E-LqHxw-s1ix",
        "ZXFWumZhr6Ex",
        "oElZ1j7itA2H",
        "H9vGX6dirmHL",
        "eaygizicsMIy",
        "ExMqwGE1sZV-",
        "JZFIpijOrqbM",
        "1SBigmCQtYR-",
        "B3f7oOaVuGoG",
        "JtjPD6J3tpXH",
        "BQXexlSluX-X",
        "ocEXb9JMtuq0",
        "mKmXFgb5ujhh"
      ],
      "include_colab_link": true
    },
    "kernelspec": {
      "name": "python3",
      "display_name": "Python 3"
    }
  },
  "cells": [
    {
      "cell_type": "markdown",
      "metadata": {
        "id": "view-in-github",
        "colab_type": "text"
      },
      "source": [
        "<a href=\"https://colab.research.google.com/github/cnyakundi/financial_inclusion/blob/master/notebooks/Bivariate_Analysis_with_Python_Week_2_IP.ipynb\" target=\"_parent\"><img src=\"https://colab.research.google.com/assets/colab-badge.svg\" alt=\"Open In Colab\"/></a>"
      ]
    },
    {
      "cell_type": "markdown",
      "metadata": {
        "id": "_7HV1W96p9Pa"
      },
      "source": [
        "# Bivariate Analysis with Python - Week 2 IP"
      ]
    },
    {
      "cell_type": "markdown",
      "metadata": {
        "id": "R-LF2g-wFZAy"
      },
      "source": [
        "## Importing the Libraries "
      ]
    },
    {
      "cell_type": "markdown",
      "metadata": {
        "id": "UhtjDiVhUeGj"
      },
      "source": [
        "This type of data involves two different variables. The analysis of this type of data deals with causes and relationships between two variables."
      ]
    },
    {
      "cell_type": "code",
      "metadata": {
        "id": "As8F2H5bYyzO"
      },
      "source": [
        "# Importing Numpy\n",
        "import numpy as np\n",
        "\n",
        "# Importing Pandas\n",
        "import pandas as pd\n",
        "\n",
        "# Importing Matplotlib\n",
        "import matplotlib.pyplot as plt\n",
        "\n",
        "# Importing Seaborn\n",
        "import seaborn as sns"
      ],
      "execution_count": 5,
      "outputs": []
    },
    {
      "cell_type": "code",
      "metadata": {
        "id": "Tf4FBoMGaFDB"
      },
      "source": [
        "#loading our dataset \n",
        "\n",
        "df=pd.read_csv('Financial Dataset.csv')"
      ],
      "execution_count": 8,
      "outputs": []
    },
    {
      "cell_type": "markdown",
      "metadata": {
        "id": "J5_LC2_Crgta"
      },
      "source": [
        "## 1.0 Numerical and Numerical"
      ]
    },
    {
      "cell_type": "markdown",
      "metadata": {
        "id": "vnV6pTXea8_W"
      },
      "source": [
        "## Cleaning our dataset "
      ]
    },
    {
      "cell_type": "code",
      "metadata": {
        "colab": {
          "base_uri": "https://localhost:8080/",
          "height": 345
        },
        "id": "ElgcnF7ibBQm",
        "outputId": "8150bd28-1f24-461f-eb72-64e496c392f9"
      },
      "source": [
        "# We can convert Cell Phone Access and gender of respondents into categories. This will reduce memory usage \n",
        "\n",
        "df['Has a Bank account'].fillna('0')\n",
        "\n",
        "\n",
        "# df['Cell Phone Access']=df['Cell Phone Access'].astype('category')\n",
        "\n",
        "\n",
        "df['gender_of_respondent']=df['gender_of_respondent'].astype('category')\n",
        "\n",
        "\n",
        "\n",
        "#We convert country, unique_id, the relationship with head, marital status, level of education and type of job into strings \n",
        "\n",
        "df['year']=pd.to_datetime(df['year']) # Convert date to datetime \n",
        "df['country']=df['country'].astype('str')\n",
        "df['uniqueid']=df['uniqueid'].astype('str')\n",
        "df['uniqueid']=df['uniqueid'].astype('str')\n",
        "df['The relathip with head']=df['The relathip with head'].astype('str')\n",
        "df['marital_status']=df['marital_status'].astype('str')\n",
        "df['Level of Educuation']=df['Level of Educuation'].astype('str')\n",
        "df['Type of Job']=df['Type of Job'].astype('str')\n",
        "\n",
        "\n",
        "\n",
        "# Replace yes and No with '1' amd '0' then cast into integers \n",
        "\n",
        "df.replace(to_replace=['Yes','No'],value=['1','0'], inplace=True)\n",
        "\n",
        "\n",
        "df['Has a Bank account'].fillna('0', inplace=True)\n",
        "\n",
        "\n",
        "df['Has a Bank account']=df['Has a Bank account'].astype('int')\n",
        "df.replace(to_replace=['Yes','No'],value=['1','0'], inplace=True)\n",
        "\n",
        "# Replace yes and No with '1' amd '0' then cast into integers\n",
        "\n",
        "df['Cell Phone Access'].fillna('0', inplace=True)\n",
        "\n",
        "df['Cell Phone Access']=df['Cell Phone Access'].astype('int')\n",
        "\n",
        "# Converting Type of location into integers \n",
        "\n",
        "df.replace(to_replace=['Rural','Urban'],value=['0','1'], inplace=True)\n",
        "df['Type of Location'].fillna('0', inplace=True)\n",
        "\n",
        "df['Type of Location']=df['Type of Location'].astype('int')\n",
        "\n",
        "# Dealing with the Missing Data\n",
        "# df['Respondent Age']=df['Respondent Age'].fillna(df['Respondent Age'].mode())\n",
        "\n",
        "\n",
        "# df.isnull().sum()\n",
        "\n",
        "\n",
        "# We fill all these with 0 because many people dont have bank accounts, live in rural areas and dont have cell phone access\n",
        "\n",
        "df['Has a Bank account'].fillna('0', inplace=True)\n",
        "\n",
        "df['Type of Location'].fillna('0', inplace=True)\n",
        "\n",
        "df['Cell Phone Access'].fillna('0', inplace=True)\n",
        "\n",
        "df.head()"
      ],
      "execution_count": 14,
      "outputs": [
        {
          "output_type": "execute_result",
          "data": {
            "text/html": [
              "<div>\n",
              "<style scoped>\n",
              "    .dataframe tbody tr th:only-of-type {\n",
              "        vertical-align: middle;\n",
              "    }\n",
              "\n",
              "    .dataframe tbody tr th {\n",
              "        vertical-align: top;\n",
              "    }\n",
              "\n",
              "    .dataframe thead th {\n",
              "        text-align: right;\n",
              "    }\n",
              "</style>\n",
              "<table border=\"1\" class=\"dataframe\">\n",
              "  <thead>\n",
              "    <tr style=\"text-align: right;\">\n",
              "      <th></th>\n",
              "      <th>country</th>\n",
              "      <th>year</th>\n",
              "      <th>uniqueid</th>\n",
              "      <th>Has a Bank account</th>\n",
              "      <th>Type of Location</th>\n",
              "      <th>Cell Phone Access</th>\n",
              "      <th>household_size</th>\n",
              "      <th>Respondent Age</th>\n",
              "      <th>gender_of_respondent</th>\n",
              "      <th>The relathip with head</th>\n",
              "      <th>marital_status</th>\n",
              "      <th>Level of Educuation</th>\n",
              "      <th>Type of Job</th>\n",
              "    </tr>\n",
              "  </thead>\n",
              "  <tbody>\n",
              "    <tr>\n",
              "      <th>0</th>\n",
              "      <td>Kenya</td>\n",
              "      <td>1970-01-01 00:00:00.000002018</td>\n",
              "      <td>uniqueid_1</td>\n",
              "      <td>1</td>\n",
              "      <td>0</td>\n",
              "      <td>1</td>\n",
              "      <td>3.0</td>\n",
              "      <td>24.0</td>\n",
              "      <td>Female</td>\n",
              "      <td>Spouse</td>\n",
              "      <td>Married/Living together</td>\n",
              "      <td>Secondary education</td>\n",
              "      <td>Self employed</td>\n",
              "    </tr>\n",
              "    <tr>\n",
              "      <th>1</th>\n",
              "      <td>Kenya</td>\n",
              "      <td>1970-01-01 00:00:00.000002018</td>\n",
              "      <td>uniqueid_2</td>\n",
              "      <td>0</td>\n",
              "      <td>0</td>\n",
              "      <td>0</td>\n",
              "      <td>5.0</td>\n",
              "      <td>70.0</td>\n",
              "      <td>Female</td>\n",
              "      <td>Head of Household</td>\n",
              "      <td>Widowed</td>\n",
              "      <td>No formal education</td>\n",
              "      <td>Government Dependent</td>\n",
              "    </tr>\n",
              "    <tr>\n",
              "      <th>2</th>\n",
              "      <td>Kenya</td>\n",
              "      <td>1970-01-01 00:00:00.000002018</td>\n",
              "      <td>uniqueid_3</td>\n",
              "      <td>1</td>\n",
              "      <td>1</td>\n",
              "      <td>1</td>\n",
              "      <td>5.0</td>\n",
              "      <td>26.0</td>\n",
              "      <td>Male</td>\n",
              "      <td>Other relative</td>\n",
              "      <td>Single/Never Married</td>\n",
              "      <td>Vocational/Specialised training</td>\n",
              "      <td>Self employed</td>\n",
              "    </tr>\n",
              "    <tr>\n",
              "      <th>3</th>\n",
              "      <td>Kenya</td>\n",
              "      <td>1970-01-01 00:00:00.000002018</td>\n",
              "      <td>uniqueid_4</td>\n",
              "      <td>0</td>\n",
              "      <td>0</td>\n",
              "      <td>1</td>\n",
              "      <td>5.0</td>\n",
              "      <td>34.0</td>\n",
              "      <td>Female</td>\n",
              "      <td>Head of Household</td>\n",
              "      <td>Married/Living together</td>\n",
              "      <td>Primary education</td>\n",
              "      <td>Formally employed Private</td>\n",
              "    </tr>\n",
              "    <tr>\n",
              "      <th>4</th>\n",
              "      <td>Kenya</td>\n",
              "      <td>1970-01-01 00:00:00.000002018</td>\n",
              "      <td>uniqueid_5</td>\n",
              "      <td>0</td>\n",
              "      <td>1</td>\n",
              "      <td>0</td>\n",
              "      <td>8.0</td>\n",
              "      <td>26.0</td>\n",
              "      <td>Male</td>\n",
              "      <td>Child</td>\n",
              "      <td>Single/Never Married</td>\n",
              "      <td>Primary education</td>\n",
              "      <td>Informally employed</td>\n",
              "    </tr>\n",
              "  </tbody>\n",
              "</table>\n",
              "</div>"
            ],
            "text/plain": [
              "  country  ...                Type of Job\n",
              "0   Kenya  ...              Self employed\n",
              "1   Kenya  ...       Government Dependent\n",
              "2   Kenya  ...              Self employed\n",
              "3   Kenya  ...  Formally employed Private\n",
              "4   Kenya  ...        Informally employed\n",
              "\n",
              "[5 rows x 13 columns]"
            ]
          },
          "metadata": {},
          "execution_count": 14
        }
      ]
    },
    {
      "cell_type": "markdown",
      "metadata": {
        "id": "z0Ka3v_5r6nN"
      },
      "source": [
        "### 1.01 Scatter Plots"
      ]
    },
    {
      "cell_type": "markdown",
      "metadata": {
        "id": "SqRBkR-ld--C"
      },
      "source": [
        ""
      ]
    },
    {
      "cell_type": "code",
      "metadata": {
        "id": "dR5_qZu2bK4h",
        "colab": {
          "base_uri": "https://localhost:8080/",
          "height": 294
        },
        "outputId": "fa4f1f3c-e011-4f33-8542-e9491789a6e7"
      },
      "source": [
        "\n",
        "\n",
        "# Previewing our dataset\n",
        "df.head()\n",
        "\n",
        "# Using Pandas: Plotting our scatterplot to compare the variables\n",
        "df.plot(x = 'household_size', y = 'Respondent Age', kind='scatter')\n",
        "\n",
        "# Or Using Matplotlib: Plotting our scatterplot to compare the variables\n",
        "plt.scatter(df[\"household_size\"] , df[\"Respondent Age\"])\n",
        "\n",
        "# Or Using Seaborn: Using the function regplot to create our scatterplot\n",
        "sns.regplot( x = df[\"Respondent Age\"],y = df[\"household_size\"], fit_reg=False)\n",
        "\n",
        "# Giving our scatterplot a title\n",
        "plt.title('Household size Vs Respondents age ')\n",
        "\n",
        "# Labelling our x axis\n",
        "plt.ylabel('Household Size)')\n",
        "\n",
        "# Labelling our y axis\n",
        "plt.xlabel('Respondents age')\n",
        "\n",
        "# We then display our scatterplot as shown below\n",
        "plt.show()\n",
        "\n",
        "# The scatterplot graph shows that the household size and Respondents age are not  correlated "
      ],
      "execution_count": 23,
      "outputs": [
        {
          "output_type": "display_data",
          "data": {
            "image/png": "[encoded data removed]",
            "text/plain": [
              "<Figure size 432x288 with 1 Axes>"
            ]
          },
          "metadata": {
            "needs_background": "light"
          }
        }
      ]
    },
    {
      "cell_type": "code",
      "metadata": {
        "id": "7FjzxOrYwfPu",
        "colab": {
          "base_uri": "https://localhost:8080/",
          "height": 294
        },
        "outputId": "1c19f986-c4f1-441b-a5a6-af537f56b5f7"
      },
      "source": [
        "\n",
        "\n",
        "\n",
        "# Plotting our scatterplot\n",
        "plt.scatter(df['Respondent Age'], df['Level of Educuation'])\n",
        "\n",
        "# Giving our scatterplot a title\n",
        "plt.title('Respndents age Vs Level of education')\n",
        "\n",
        "# Labelling our x axis\n",
        "plt.xlabel('Respondents age')\n",
        "\n",
        "# Labelling our y axis\n",
        "plt.ylabel('Level of education')\n",
        "\n",
        "# Displaying our scatterplot\n",
        "plt.show()\n",
        "\n",
        "# There is no relation because the points are scattered throughout the graph."
      ],
      "execution_count": 40,
      "outputs": [
        {
          "output_type": "display_data",
          "data": {
            "image/png": "[encoded data removed]",
            "text/plain": [
              "<Figure size 432x288 with 1 Axes>"
            ]
          },
          "metadata": {
            "needs_background": "light"
          }
        }
      ]
    },
    {
      "cell_type": "code",
      "metadata": {
        "id": "k6JnbZZ3_Xyf",
        "colab": {
          "base_uri": "https://localhost:8080/",
          "height": 294
        },
        "outputId": "cdbb514f-2897-42b9-d5df-78e23f8edc24"
      },
      "source": [
        "\n",
        "\n",
        "\n",
        "# Plotting our scatterplot\n",
        "plt.scatter(df['household_size'],df['Respondent Age'])\n",
        "\n",
        "# Giving our scatterplot a title\n",
        "plt.title('Respondents age Vs Household size')\n",
        "\n",
        "# Labelling our x axis\n",
        "plt.xlabel('Household size ')\n",
        "\n",
        "# Labelling our y axis\n",
        "plt.ylabel('Respondents age')\n",
        "\n",
        "# Displaying our scatterplot\n",
        "plt.show()\n",
        "\n",
        "# The variables show inverse relation. "
      ],
      "execution_count": 52,
      "outputs": [
        {
          "output_type": "display_data",
          "data": {
            "image/png": "[encoded data removed]",
            "text/plain": [
              "<Figure size 432x288 with 1 Axes>"
            ]
          },
          "metadata": {
            "needs_background": "light"
          }
        }
      ]
    },
    {
      "cell_type": "code",
      "metadata": {
        "id": "32vryTAJ_UvW",
        "colab": {
          "base_uri": "https://localhost:8080/",
          "height": 294
        },
        "outputId": "ee78b9c5-d1ef-40fb-c00b-ff27c0d4dda6"
      },
      "source": [
        "\n",
        "\n",
        "# Plotting our scatterplot\n",
        "df[df['Respondent Age'] > 50].sample(100).plot.scatter(x='Type of Location', y='Respondent Age')\n",
        "\n",
        "# Giving our scatterplot a title\n",
        "plt.title('Respondents Age ')\n",
        "\n",
        "# Displaying our scatterplot\n",
        "plt.show()\n",
        "\n"
      ],
      "execution_count": 57,
      "outputs": [
        {
          "output_type": "display_data",
          "data": {
            "image/png": "[encoded data removed]",
            "text/plain": [
              "<Figure size 432x288 with 1 Axes>"
            ]
          },
          "metadata": {
            "needs_background": "light"
          }
        }
      ]
    },
    {
      "cell_type": "markdown",
      "metadata": {
        "id": "ZXFWumZhr6Ex"
      },
      "source": [
        "### 1.02 Correlation"
      ]
    },
    {
      "cell_type": "markdown",
      "metadata": {
        "id": "v1z7T3zbgkMh"
      },
      "source": [
        "Correlation is a statistical measure that describes the association between random variables. In this section, will use pandas to calculate the correlation coefficient."
      ]
    },
    {
      "cell_type": "code",
      "metadata": {
        "id": "xk9ZSH5XsDHk",
        "colab": {
          "base_uri": "https://localhost:8080/"
        },
        "outputId": "34dbf09e-48d4-4f50-8675-3764d16c9f74"
      },
      "source": [
        "\n",
        "\n",
        "\n",
        "# Calculating the pearson coefficient\n",
        "pearson_coeff = df['Respondent Age'].corr(df['household_size'], method=\"pearson\") \n",
        "print(pearson_coeff)\n",
        "\n",
        "# Checking whether you have to define the pearson\n",
        "coeff = df['Respondent Age'].corr(df['household_size']) \n",
        "print(coeff)\n",
        "\n",
        "#This confirmes there is a negative correlation "
      ],
      "execution_count": 58,
      "outputs": [
        {
          "output_type": "stream",
          "name": "stdout",
          "text": [
            "-0.1197092971464233\n",
            "-0.1197092971464233\n"
          ]
        }
      ]
    },
    {
      "cell_type": "code",
      "metadata": {
        "id": "NT6fzg0Y9HEy",
        "colab": {
          "base_uri": "https://localhost:8080/"
        },
        "outputId": "32dcc9f2-6914-4878-cdef-fdf69aba87a0"
      },
      "source": [
        "# Calculating the pearson coefficient\n",
        "df['Type of Location'].corr(df['household_size']) \n",
        "\n",
        "# Type of location and household size are negatively correlated "
      ],
      "execution_count": 61,
      "outputs": [
        {
          "output_type": "execute_result",
          "data": {
            "text/plain": [
              "-0.27408727753402057"
            ]
          },
          "metadata": {},
          "execution_count": 61
        }
      ]
    },
    {
      "cell_type": "code",
      "metadata": {
        "id": "HthEGQEm_Yqj",
        "colab": {
          "base_uri": "https://localhost:8080/"
        },
        "outputId": "5687fcf2-048c-426e-d293-9b373b2fa07d"
      },
      "source": [
        "\n",
        "df['Has a Bank account'].corr(df['Cell Phone Access']) \n",
        "\n",
        "#Low positive correlation which confirms that those with phones also have a bank account. "
      ],
      "execution_count": 62,
      "outputs": [
        {
          "output_type": "execute_result",
          "data": {
            "text/plain": [
              "0.20967215331950248"
            ]
          },
          "metadata": {},
          "execution_count": 62
        }
      ]
    },
    {
      "cell_type": "code",
      "metadata": {
        "id": "Cth-f1IrB7aT",
        "colab": {
          "base_uri": "https://localhost:8080/"
        },
        "outputId": "ebcaaca5-d790-4513-c7c5-ee437a3296e7"
      },
      "source": [
        "\n",
        "rural= df['Has a Bank account'].corr(df['Type of Location']==0)\n",
        "urban=df['Has a Bank account'].corr(df['Type of Location']==0)\n",
        "\n",
        "\n",
        "print(rural,urban)\n",
        "\n",
        "# There is very weak positive correlation between those who have a bank account and where they live. \n",
        "# Those in Urban have bank accounts whereas those in rural areas show negative correlation "
      ],
      "execution_count": 67,
      "outputs": [
        {
          "output_type": "stream",
          "name": "stdout",
          "text": [
            "-0.0879846895265603 -0.0879846895265603\n"
          ]
        }
      ]
    },
    {
      "cell_type": "code",
      "metadata": {
        "id": "8y_sdU5JF0eX",
        "colab": {
          "base_uri": "https://localhost:8080/",
          "height": 206
        },
        "outputId": "8f181db9-1469-4b3a-b1d1-2beccc05114c"
      },
      "source": [
        "\n",
        "\n",
        "# Calculating the pearson coefficient\n",
        "df.corr() "
      ],
      "execution_count": 68,
      "outputs": [
        {
          "output_type": "execute_result",
          "data": {
            "text/html": [
              "<div>\n",
              "<style scoped>\n",
              "    .dataframe tbody tr th:only-of-type {\n",
              "        vertical-align: middle;\n",
              "    }\n",
              "\n",
              "    .dataframe tbody tr th {\n",
              "        vertical-align: top;\n",
              "    }\n",
              "\n",
              "    .dataframe thead th {\n",
              "        text-align: right;\n",
              "    }\n",
              "</style>\n",
              "<table border=\"1\" class=\"dataframe\">\n",
              "  <thead>\n",
              "    <tr style=\"text-align: right;\">\n",
              "      <th></th>\n",
              "      <th>Has a Bank account</th>\n",
              "      <th>Type of Location</th>\n",
              "      <th>Cell Phone Access</th>\n",
              "      <th>household_size</th>\n",
              "      <th>Respondent Age</th>\n",
              "    </tr>\n",
              "  </thead>\n",
              "  <tbody>\n",
              "    <tr>\n",
              "      <th>Has a Bank account</th>\n",
              "      <td>1.000000</td>\n",
              "      <td>0.087985</td>\n",
              "      <td>0.209672</td>\n",
              "      <td>-0.021694</td>\n",
              "      <td>0.019534</td>\n",
              "    </tr>\n",
              "    <tr>\n",
              "      <th>Type of Location</th>\n",
              "      <td>0.087985</td>\n",
              "      <td>1.000000</td>\n",
              "      <td>-0.083964</td>\n",
              "      <td>-0.274087</td>\n",
              "      <td>-0.047518</td>\n",
              "    </tr>\n",
              "    <tr>\n",
              "      <th>Cell Phone Access</th>\n",
              "      <td>0.209672</td>\n",
              "      <td>-0.083964</td>\n",
              "      <td>1.000000</td>\n",
              "      <td>0.099514</td>\n",
              "      <td>-0.103772</td>\n",
              "    </tr>\n",
              "    <tr>\n",
              "      <th>household_size</th>\n",
              "      <td>-0.021694</td>\n",
              "      <td>-0.274087</td>\n",
              "      <td>0.099514</td>\n",
              "      <td>1.000000</td>\n",
              "      <td>-0.119709</td>\n",
              "    </tr>\n",
              "    <tr>\n",
              "      <th>Respondent Age</th>\n",
              "      <td>0.019534</td>\n",
              "      <td>-0.047518</td>\n",
              "      <td>-0.103772</td>\n",
              "      <td>-0.119709</td>\n",
              "      <td>1.000000</td>\n",
              "    </tr>\n",
              "  </tbody>\n",
              "</table>\n",
              "</div>"
            ],
            "text/plain": [
              "                    Has a Bank account  ...  Respondent Age\n",
              "Has a Bank account            1.000000  ...        0.019534\n",
              "Type of Location              0.087985  ...       -0.047518\n",
              "Cell Phone Access             0.209672  ...       -0.103772\n",
              "household_size               -0.021694  ...       -0.119709\n",
              "Respondent Age                0.019534  ...        1.000000\n",
              "\n",
              "[5 rows x 5 columns]"
            ]
          },
          "metadata": {},
          "execution_count": 68
        }
      ]
    },
    {
      "cell_type": "markdown",
      "metadata": {
        "id": "H9vGX6dirmHL"
      },
      "source": [
        "## Categorical and Categorical"
      ]
    },
    {
      "cell_type": "markdown",
      "metadata": {
        "id": "eaygizicsMIy"
      },
      "source": [
        "###  Stacked Column Chart"
      ]
    },
    {
      "cell_type": "markdown",
      "metadata": {
        "id": "t_gpYDTCcaJ6"
      },
      "source": [
        "Stacked column charts work well when the focus of the chart is to compare the totals and one part of the totals. It\n",
        "is a useful graph to visualize the relationship between two categorical variables. It compares the percentage that each category from one variable contributes to a total across categories of the second variable. \t"
      ]
    },
    {
      "cell_type": "code",
      "metadata": {
        "id": "P54RyL9PfpsF"
      },
      "source": [
        "\n",
        "\n",
        "df[['Has a Bank account', 'Type of Location',\n",
        "       'Cell Phone Access']].plot(kind='bar', figsize=(8, 6), stacked=True)\n",
        "\n",
        "# Rotating our x axis ticks\n",
        "plt.xticks(rotation = 45)\n",
        "\n",
        "# Giving our chart a title\n",
        "plt.title(\"Sales of Hybrid, Racing and Electric Bikes (May 2017 - May 18)\", fontsize=14, y=1.015)\n",
        "\n",
        "# Labeling our y axis\n",
        "plt.ylabel(\"Sales\", fontsize=14, labelpad=15)\n",
        "\n",
        "# Labeling our x axis\n",
        "plt.xlabel(\"Months\", fontsize=14, labelpad=15)\n",
        "\n",
        "# Displaying our chart\n",
        "plt.show()"
      ],
      "execution_count": null,
      "outputs": []
    },
    {
      "cell_type": "markdown",
      "metadata": {
        "id": "JZFIpijOrqbM"
      },
      "source": [
        "## Categorical and Numerical"
      ]
    },
    {
      "cell_type": "markdown",
      "metadata": {
        "id": "1SBigmCQtYR-"
      },
      "source": [
        "### Line Charts"
      ]
    },
    {
      "cell_type": "code",
      "metadata": {
        "id": "Mw-3r0JIrxgn",
        "colab": {
          "base_uri": "https://localhost:8080/",
          "height": 300
        },
        "outputId": "9aa1860a-f131-494b-8d0f-89018dca974e"
      },
      "source": [
        "\n",
        "\n",
        "# Plotting our line graph\n",
        "plt.plot(df['household_size'], df['Respondent Age'])\n",
        "\n",
        "# Giving a title to our line graph\n",
        "plt.title(\"Household size Vs Age \", fontsize=14, y=1.015)\n",
        "\n",
        "# Labelling the y-axis\n",
        "plt.ylabel('Household size')\n",
        "\n",
        "# Labelling the x-axis\n",
        "plt.xlabel('Respondents Age')\n",
        "\n",
        "# Displaying our graph\n",
        "plt.show()\n",
        "\n",
        "\n"
      ],
      "execution_count": 82,
      "outputs": [
        {
          "output_type": "display_data",
          "data": {
            "image/png": "[encoded data removed]",
            "text/plain": [
              "<Figure size 432x288 with 1 Axes>"
            ]
          },
          "metadata": {
            "needs_background": "light"
          }
        }
      ]
    },
    {
      "cell_type": "code",
      "metadata": {
        "id": "8g3DUr72EeqU",
        "colab": {
          "base_uri": "https://localhost:8080/",
          "height": 300
        },
        "outputId": "ac4d71d1-55c2-4beb-c543-6b5f65c06be5"
      },
      "source": [
        "\n",
        "\n",
        "\n",
        "# Plotting our line graph\n",
        "df[[\"household_size\"]].plot()\n",
        "\n",
        "# Giving a title to our line graph\n",
        "plt.title(\" Household size per Type of Location \", fontsize=14, y=1.015)\n",
        "\n",
        "# Labelling the y-axis\n",
        "plt.ylabel('Household Size')\n",
        "\n",
        "# Labelling the x-axis\n",
        "plt.xlabel('Years')\n",
        "\n",
        "# Displaying our graph\n",
        "plt.show()"
      ],
      "execution_count": 85,
      "outputs": [
        {
          "output_type": "display_data",
          "data": {
            "image/png": "[encoded data removed]",
            "text/plain": [
              "<Figure size 432x288 with 1 Axes>"
            ]
          },
          "metadata": {
            "needs_background": "light"
          }
        }
      ]
    },
    {
      "cell_type": "markdown",
      "metadata": {
        "id": "JtjPD6J3tpXH"
      },
      "source": [
        "###  Z-test "
      ]
    },
    {
      "cell_type": "code",
      "metadata": {
        "id": "j5cavzRKtr5U",
        "colab": {
          "base_uri": "https://localhost:8080/"
        },
        "outputId": "2cd24782-f625-41d5-b43d-beb6348af75e"
      },
      "source": [
        "\n",
        "#\n",
        "from scipy import stats\n",
        "\n",
        "a = np.array([df['Respondent Age']])\n",
        "stats.zscore(a)"
      ],
      "execution_count": 86,
      "outputs": [
        {
          "output_type": "stream",
          "name": "stderr",
          "text": [
            "/usr/local/lib/python3.7/dist-packages/scipy/stats/stats.py:2419: RuntimeWarning: invalid value encountered in true_divide\n",
            "  return (a - mns) / sstd\n"
          ]
        },
        {
          "output_type": "execute_result",
          "data": {
            "text/plain": [
              "array([[nan, nan, nan, ..., nan, nan, nan]])"
            ]
          },
          "metadata": {},
          "execution_count": 86
        }
      ]
    }
  ]
}